{
 "cells": [
  {
   "cell_type": "code",
   "execution_count": 78,
   "metadata": {},
   "outputs": [],
   "source": [
    "from collections import Counter\n",
    "from os import path\n",
    "from typing import List\n",
    "\n",
    "import matplotlib.pyplot as plt\n",
    "import numpy as np\n",
    "from numpy.typing import NDArray\n",
    "from pandas import read_csv, DataFrame, Series\n",
    "from scipy import stats\n",
    "import seaborn as sns\n",
    "from sklearn.linear_model import LinearRegression\n",
    "from sklearn.metrics import mean_squared_error, mean_absolute_error\n",
    "from sklearn.model_selection import train_test_split\n",
    "from sklearn.compose import ColumnTransformer\n",
    "from sklearn.preprocessing import OneHotEncoder, StandardScaler"
   ]
  },
  {
   "cell_type": "code",
   "execution_count": 79,
   "metadata": {},
   "outputs": [],
   "source": [
    "def informations_qualitatives_data(columns : List[str], dataframe: DataFrame) -> None:\n",
    "    for column_name in columns:\n",
    "        counter = Counter(dataframe[column_name])\n",
    "        len_values = len(dataframe[column_name].unique())\n",
    "        print(f\" {column_name} : {len_values} values with \\n {counter}\")\n",
    "        \n",
    "\n",
    "def catplot_columns(columns: List[str], dataframe: DataFrame) -> None:\n",
    "    for column_name in columns:\n",
    "        sns.catplot(data=dataframe, x=column_name, kind=\"box\")\n",
    "    return None\n",
    "\n",
    "\n",
    "def print_scores(y_true, y_pred) -> None:\n",
    "    mse = mean_squared_error(y_true=y_true, y_pred=y_pred)\n",
    "    print(\"mse: \",mse)\n",
    "    rmse = np.sqrt(mse)\n",
    "    print(\"rmse: \",rmse)\n",
    "    mae = mean_absolute_error(y_true=y_true, y_pred=y_pred)\n",
    "    print(\"mae: \",mae)\n",
    "    print(f\"Actual selling prices mean : {y_true.mean()} and Predicted selling price mean : {y_pred.mean()} with a difference of : {y_true.mean() - y_pred.mean()}\")\n",
    "\n",
    "def visualize__regression(dataset_test: DataFrame, selling_price_test: Series, predicted_prices: NDArray) -> None:\n",
    "    plt.scatter(x=dataset_test, y=selling_price_test, color=\"black\")\n",
    "    plt.plot(dataset_test, predicted_prices, \"r-\")\n",
    "    plt.show()"
   ]
  },
  {
   "cell_type": "code",
   "execution_count": 80,
   "metadata": {},
   "outputs": [
    {
     "name": "stdout",
     "output_type": "stream",
     "text": [
      "<class 'pandas.core.frame.DataFrame'>\n",
      "RangeIndex: 301 entries, 0 to 300\n",
      "Data columns (total 9 columns):\n",
      " #   Column         Non-Null Count  Dtype  \n",
      "---  ------         --------------  -----  \n",
      " 0   Car_Name       301 non-null    object \n",
      " 1   Year           301 non-null    int64  \n",
      " 2   Selling_Price  301 non-null    float64\n",
      " 3   Present_Price  301 non-null    float64\n",
      " 4   Kms_Driven     301 non-null    int64  \n",
      " 5   Fuel_Type      301 non-null    object \n",
      " 6   Seller_Type    301 non-null    object \n",
      " 7   Transmission   301 non-null    object \n",
      " 8   Owner          301 non-null    int64  \n",
      "dtypes: float64(2), int64(3), object(4)\n",
      "memory usage: 21.3+ KB\n"
     ]
    }
   ],
   "source": [
    "dataframe = read_csv(path.join(\"..\", 'data/raw','carData.csv'))\n",
    "dataframe.info()"
   ]
  },
  {
   "cell_type": "code",
   "execution_count": 81,
   "metadata": {},
   "outputs": [
    {
     "data": {
      "text/html": [
       "<div>\n",
       "<style scoped>\n",
       "    .dataframe tbody tr th:only-of-type {\n",
       "        vertical-align: middle;\n",
       "    }\n",
       "\n",
       "    .dataframe tbody tr th {\n",
       "        vertical-align: top;\n",
       "    }\n",
       "\n",
       "    .dataframe thead th {\n",
       "        text-align: right;\n",
       "    }\n",
       "</style>\n",
       "<table border=\"1\" class=\"dataframe\">\n",
       "  <thead>\n",
       "    <tr style=\"text-align: right;\">\n",
       "      <th></th>\n",
       "      <th>Car_Name</th>\n",
       "      <th>Year</th>\n",
       "      <th>Selling_Price</th>\n",
       "      <th>Present_Price</th>\n",
       "      <th>Kms_Driven</th>\n",
       "      <th>Fuel_Type</th>\n",
       "      <th>Seller_Type</th>\n",
       "      <th>Transmission</th>\n",
       "      <th>Owner</th>\n",
       "    </tr>\n",
       "  </thead>\n",
       "  <tbody>\n",
       "    <tr>\n",
       "      <th>0</th>\n",
       "      <td>ritz</td>\n",
       "      <td>2014</td>\n",
       "      <td>3.35</td>\n",
       "      <td>5.59</td>\n",
       "      <td>27000</td>\n",
       "      <td>Petrol</td>\n",
       "      <td>Dealer</td>\n",
       "      <td>Manual</td>\n",
       "      <td>0</td>\n",
       "    </tr>\n",
       "    <tr>\n",
       "      <th>1</th>\n",
       "      <td>sx4</td>\n",
       "      <td>2013</td>\n",
       "      <td>4.75</td>\n",
       "      <td>9.54</td>\n",
       "      <td>43000</td>\n",
       "      <td>Diesel</td>\n",
       "      <td>Dealer</td>\n",
       "      <td>Manual</td>\n",
       "      <td>0</td>\n",
       "    </tr>\n",
       "    <tr>\n",
       "      <th>2</th>\n",
       "      <td>ciaz</td>\n",
       "      <td>2017</td>\n",
       "      <td>7.25</td>\n",
       "      <td>9.85</td>\n",
       "      <td>6900</td>\n",
       "      <td>Petrol</td>\n",
       "      <td>Dealer</td>\n",
       "      <td>Manual</td>\n",
       "      <td>0</td>\n",
       "    </tr>\n",
       "    <tr>\n",
       "      <th>3</th>\n",
       "      <td>wagon r</td>\n",
       "      <td>2011</td>\n",
       "      <td>2.85</td>\n",
       "      <td>4.15</td>\n",
       "      <td>5200</td>\n",
       "      <td>Petrol</td>\n",
       "      <td>Dealer</td>\n",
       "      <td>Manual</td>\n",
       "      <td>0</td>\n",
       "    </tr>\n",
       "    <tr>\n",
       "      <th>4</th>\n",
       "      <td>swift</td>\n",
       "      <td>2014</td>\n",
       "      <td>4.60</td>\n",
       "      <td>6.87</td>\n",
       "      <td>42450</td>\n",
       "      <td>Diesel</td>\n",
       "      <td>Dealer</td>\n",
       "      <td>Manual</td>\n",
       "      <td>0</td>\n",
       "    </tr>\n",
       "  </tbody>\n",
       "</table>\n",
       "</div>"
      ],
      "text/plain": [
       "  Car_Name  Year  Selling_Price  Present_Price  Kms_Driven Fuel_Type  \\\n",
       "0     ritz  2014           3.35           5.59       27000    Petrol   \n",
       "1      sx4  2013           4.75           9.54       43000    Diesel   \n",
       "2     ciaz  2017           7.25           9.85        6900    Petrol   \n",
       "3  wagon r  2011           2.85           4.15        5200    Petrol   \n",
       "4    swift  2014           4.60           6.87       42450    Diesel   \n",
       "\n",
       "  Seller_Type Transmission  Owner  \n",
       "0      Dealer       Manual      0  \n",
       "1      Dealer       Manual      0  \n",
       "2      Dealer       Manual      0  \n",
       "3      Dealer       Manual      0  \n",
       "4      Dealer       Manual      0  "
      ]
     },
     "execution_count": 81,
     "metadata": {},
     "output_type": "execute_result"
    }
   ],
   "source": [
    "dataframe.head()"
   ]
  },
  {
   "cell_type": "markdown",
   "metadata": {},
   "source": [
    "# Dataset's informations\n",
    "We have a dataset of **301 observations** with **9 features** about cars. Each observation is information about a specific car model.  \n",
    "We have 5 **numericals** features and 4 **qualitatives** features (3 are **categoricals**).  \n",
    "It is a short dataframe but there isn't any null values."
   ]
  },
  {
   "cell_type": "markdown",
   "metadata": {},
   "source": [
    "***\n",
    "### Now let's find out about our numericals data"
   ]
  },
  {
   "cell_type": "code",
   "execution_count": 82,
   "metadata": {},
   "outputs": [
    {
     "data": {
      "text/html": [
       "<div>\n",
       "<style scoped>\n",
       "    .dataframe tbody tr th:only-of-type {\n",
       "        vertical-align: middle;\n",
       "    }\n",
       "\n",
       "    .dataframe tbody tr th {\n",
       "        vertical-align: top;\n",
       "    }\n",
       "\n",
       "    .dataframe thead th {\n",
       "        text-align: right;\n",
       "    }\n",
       "</style>\n",
       "<table border=\"1\" class=\"dataframe\">\n",
       "  <thead>\n",
       "    <tr style=\"text-align: right;\">\n",
       "      <th></th>\n",
       "      <th>Year</th>\n",
       "      <th>Selling_Price</th>\n",
       "      <th>Present_Price</th>\n",
       "      <th>Kms_Driven</th>\n",
       "      <th>Owner</th>\n",
       "    </tr>\n",
       "  </thead>\n",
       "  <tbody>\n",
       "    <tr>\n",
       "      <th>count</th>\n",
       "      <td>301.000000</td>\n",
       "      <td>301.000000</td>\n",
       "      <td>301.000000</td>\n",
       "      <td>301.000000</td>\n",
       "      <td>301.000000</td>\n",
       "    </tr>\n",
       "    <tr>\n",
       "      <th>mean</th>\n",
       "      <td>2013.627907</td>\n",
       "      <td>4.661296</td>\n",
       "      <td>7.628472</td>\n",
       "      <td>36947.205980</td>\n",
       "      <td>0.043189</td>\n",
       "    </tr>\n",
       "    <tr>\n",
       "      <th>std</th>\n",
       "      <td>2.891554</td>\n",
       "      <td>5.082812</td>\n",
       "      <td>8.644115</td>\n",
       "      <td>38886.883882</td>\n",
       "      <td>0.247915</td>\n",
       "    </tr>\n",
       "    <tr>\n",
       "      <th>min</th>\n",
       "      <td>2003.000000</td>\n",
       "      <td>0.100000</td>\n",
       "      <td>0.320000</td>\n",
       "      <td>500.000000</td>\n",
       "      <td>0.000000</td>\n",
       "    </tr>\n",
       "    <tr>\n",
       "      <th>25%</th>\n",
       "      <td>2012.000000</td>\n",
       "      <td>0.900000</td>\n",
       "      <td>1.200000</td>\n",
       "      <td>15000.000000</td>\n",
       "      <td>0.000000</td>\n",
       "    </tr>\n",
       "    <tr>\n",
       "      <th>50%</th>\n",
       "      <td>2014.000000</td>\n",
       "      <td>3.600000</td>\n",
       "      <td>6.400000</td>\n",
       "      <td>32000.000000</td>\n",
       "      <td>0.000000</td>\n",
       "    </tr>\n",
       "    <tr>\n",
       "      <th>75%</th>\n",
       "      <td>2016.000000</td>\n",
       "      <td>6.000000</td>\n",
       "      <td>9.900000</td>\n",
       "      <td>48767.000000</td>\n",
       "      <td>0.000000</td>\n",
       "    </tr>\n",
       "    <tr>\n",
       "      <th>max</th>\n",
       "      <td>2018.000000</td>\n",
       "      <td>35.000000</td>\n",
       "      <td>92.600000</td>\n",
       "      <td>500000.000000</td>\n",
       "      <td>3.000000</td>\n",
       "    </tr>\n",
       "  </tbody>\n",
       "</table>\n",
       "</div>"
      ],
      "text/plain": [
       "              Year  Selling_Price  Present_Price     Kms_Driven       Owner\n",
       "count   301.000000     301.000000     301.000000     301.000000  301.000000\n",
       "mean   2013.627907       4.661296       7.628472   36947.205980    0.043189\n",
       "std       2.891554       5.082812       8.644115   38886.883882    0.247915\n",
       "min    2003.000000       0.100000       0.320000     500.000000    0.000000\n",
       "25%    2012.000000       0.900000       1.200000   15000.000000    0.000000\n",
       "50%    2014.000000       3.600000       6.400000   32000.000000    0.000000\n",
       "75%    2016.000000       6.000000       9.900000   48767.000000    0.000000\n",
       "max    2018.000000      35.000000      92.600000  500000.000000    3.000000"
      ]
     },
     "execution_count": 82,
     "metadata": {},
     "output_type": "execute_result"
    }
   ],
   "source": [
    "dataframe.describe()"
   ]
  },
  {
   "cell_type": "markdown",
   "metadata": {},
   "source": [
    "- compare selling & present price  "
   ]
  },
  {
   "cell_type": "code",
   "execution_count": 83,
   "metadata": {},
   "outputs": [
    {
     "name": "stderr",
     "output_type": "stream",
     "text": [
      "/home/yaya/anaconda3/envs/tf/lib/python3.11/site-packages/seaborn/_oldcore.py:1498: FutureWarning: is_categorical_dtype is deprecated and will be removed in a future version. Use isinstance(dtype, CategoricalDtype) instead\n",
      "  if pd.api.types.is_categorical_dtype(vector):\n",
      "/home/yaya/anaconda3/envs/tf/lib/python3.11/site-packages/seaborn/_oldcore.py:1119: FutureWarning: use_inf_as_na option is deprecated and will be removed in a future version. Convert inf values to NaN before operating instead.\n",
      "  with pd.option_context('mode.use_inf_as_na', True):\n"
     ]
    },
    {
     "data": {
      "text/plain": [
       "<Axes: xlabel='Year', ylabel='Count'>"
      ]
     },
     "execution_count": 83,
     "metadata": {},
     "output_type": "execute_result"
    },
    {
     "data": {
      "image/png": "[encoded data removed]",
      "text/plain": [
       "<Figure size 640x480 with 1 Axes>"
      ]
     },
     "metadata": {},
     "output_type": "display_data"
    }
   ],
   "source": [
    "sns.histplot(data=dataframe, x=\"Year\")"
   ]
  },
  {
   "cell_type": "code",
   "execution_count": 84,
   "metadata": {},
   "outputs": [
    {
     "name": "stderr",
     "output_type": "stream",
     "text": [
      "/home/yaya/anaconda3/envs/tf/lib/python3.11/site-packages/seaborn/_oldcore.py:1498: FutureWarning: is_categorical_dtype is deprecated and will be removed in a future version. Use isinstance(dtype, CategoricalDtype) instead\n",
      "  if pd.api.types.is_categorical_dtype(vector):\n",
      "/home/yaya/anaconda3/envs/tf/lib/python3.11/site-packages/seaborn/_oldcore.py:1119: FutureWarning: use_inf_as_na option is deprecated and will be removed in a future version. Convert inf values to NaN before operating instead.\n",
      "  with pd.option_context('mode.use_inf_as_na', True):\n"
     ]
    },
    {
     "data": {
      "text/plain": [
       "<Axes: xlabel='Owner', ylabel='Count'>"
      ]
     },
     "execution_count": 84,
     "metadata": {},
     "output_type": "execute_result"
    },
    {
     "data": {
      "image/png": "[encoded data removed]",
      "text/plain": [
       "<Figure size 640x480 with 1 Axes>"
      ]
     },
     "metadata": {},
     "output_type": "display_data"
    }
   ],
   "source": [
    "sns.histplot(data=dataframe, x=\"Owner\")"
   ]
  },
  {
   "cell_type": "markdown",
   "metadata": {},
   "source": [
    "Owner is a boolean feature, it should be typed as an object, not a int64"
   ]
  },
  {
   "cell_type": "code",
   "execution_count": 85,
   "metadata": {},
   "outputs": [],
   "source": [
    "dataframe[\"Owner\"] = dataframe[\"Owner\"].astype(dtype=\"object\")"
   ]
  },
  {
   "cell_type": "code",
   "execution_count": 86,
   "metadata": {},
   "outputs": [
    {
     "data": {
      "text/plain": [
       "Car_Name         0\n",
       "Year             0\n",
       "Selling_Price    0\n",
       "Present_Price    0\n",
       "Kms_Driven       0\n",
       "Fuel_Type        0\n",
       "Seller_Type      0\n",
       "Transmission     0\n",
       "Owner            0\n",
       "dtype: int64"
      ]
     },
     "execution_count": 86,
     "metadata": {},
     "output_type": "execute_result"
    }
   ],
   "source": [
    "dataframe[dataframe[\"Selling_Price\"] >= dataframe[\"Present_Price\"]].count()"
   ]
  },
  {
   "cell_type": "code",
   "execution_count": 87,
   "metadata": {},
   "outputs": [
    {
     "name": "stderr",
     "output_type": "stream",
     "text": [
      "/home/yaya/anaconda3/envs/tf/lib/python3.11/site-packages/seaborn/_oldcore.py:1498: FutureWarning: is_categorical_dtype is deprecated and will be removed in a future version. Use isinstance(dtype, CategoricalDtype) instead\n",
      "  if pd.api.types.is_categorical_dtype(vector):\n",
      "/home/yaya/anaconda3/envs/tf/lib/python3.11/site-packages/seaborn/_oldcore.py:1498: FutureWarning: is_categorical_dtype is deprecated and will be removed in a future version. Use isinstance(dtype, CategoricalDtype) instead\n",
      "  if pd.api.types.is_categorical_dtype(vector):\n",
      "/home/yaya/anaconda3/envs/tf/lib/python3.11/site-packages/seaborn/_oldcore.py:1498: FutureWarning: is_categorical_dtype is deprecated and will be removed in a future version. Use isinstance(dtype, CategoricalDtype) instead\n",
      "  if pd.api.types.is_categorical_dtype(vector):\n",
      "/home/yaya/anaconda3/envs/tf/lib/python3.11/site-packages/seaborn/_oldcore.py:1498: FutureWarning: is_categorical_dtype is deprecated and will be removed in a future version. Use isinstance(dtype, CategoricalDtype) instead\n",
      "  if pd.api.types.is_categorical_dtype(vector):\n",
      "/home/yaya/anaconda3/envs/tf/lib/python3.11/site-packages/seaborn/_oldcore.py:1498: FutureWarning: is_categorical_dtype is deprecated and will be removed in a future version. Use isinstance(dtype, CategoricalDtype) instead\n",
      "  if pd.api.types.is_categorical_dtype(vector):\n",
      "/home/yaya/anaconda3/envs/tf/lib/python3.11/site-packages/seaborn/_oldcore.py:1498: FutureWarning: is_categorical_dtype is deprecated and will be removed in a future version. Use isinstance(dtype, CategoricalDtype) instead\n",
      "  if pd.api.types.is_categorical_dtype(vector):\n",
      "/home/yaya/anaconda3/envs/tf/lib/python3.11/site-packages/seaborn/_oldcore.py:1498: FutureWarning: is_categorical_dtype is deprecated and will be removed in a future version. Use isinstance(dtype, CategoricalDtype) instead\n",
      "  if pd.api.types.is_categorical_dtype(vector):\n",
      "/home/yaya/anaconda3/envs/tf/lib/python3.11/site-packages/seaborn/_oldcore.py:1498: FutureWarning: is_categorical_dtype is deprecated and will be removed in a future version. Use isinstance(dtype, CategoricalDtype) instead\n",
      "  if pd.api.types.is_categorical_dtype(vector):\n"
     ]
    },
    {
     "data": {
      "image/png": "[encoded data removed]",
      "text/plain": [
       "<Figure size 500x500 with 1 Axes>"
      ]
     },
     "metadata": {},
     "output_type": "display_data"
    },
    {
     "data": {
      "image/png": "[encoded data removed]",
      "text/plain": [
       "<Figure size 500x500 with 1 Axes>"
      ]
     },
     "metadata": {},
     "output_type": "display_data"
    },
    {
     "data": {
      "image/png": "[encoded data removed]",
      "text/plain": [
       "<Figure size 500x500 with 1 Axes>"
      ]
     },
     "metadata": {},
     "output_type": "display_data"
    },
    {
     "data": {
      "image/png": "[encoded data removed]",
      "text/plain": [
       "<Figure size 500x500 with 1 Axes>"
      ]
     },
     "metadata": {},
     "output_type": "display_data"
    }
   ],
   "source": [
    "categorical_columns = [\"Car_Name\", \"Fuel_Type\", \"Seller_Type\", \"Transmission\", \"Owner\"]\n",
    "numerical_columns = list(set(dataframe.columns) - set(categorical_columns))\n",
    "catplot_columns(columns=numerical_columns, dataframe=dataframe)"
   ]
  },
  {
   "cell_type": "code",
   "execution_count": 88,
   "metadata": {},
   "outputs": [
    {
     "name": "stdout",
     "output_type": "stream",
     "text": [
      "<class 'pandas.core.frame.DataFrame'>\n",
      "Index: 300 entries, 0 to 300\n",
      "Data columns (total 9 columns):\n",
      " #   Column         Non-Null Count  Dtype  \n",
      "---  ------         --------------  -----  \n",
      " 0   Car_Name       300 non-null    object \n",
      " 1   Year           300 non-null    int64  \n",
      " 2   Selling_Price  300 non-null    float64\n",
      " 3   Present_Price  300 non-null    float64\n",
      " 4   Kms_Driven     300 non-null    int64  \n",
      " 5   Fuel_Type      300 non-null    object \n",
      " 6   Seller_Type    300 non-null    object \n",
      " 7   Transmission   300 non-null    object \n",
      " 8   Owner          300 non-null    object \n",
      "dtypes: float64(2), int64(2), object(5)\n",
      "memory usage: 23.4+ KB\n"
     ]
    }
   ],
   "source": [
    "dataframe.drop(dataframe[dataframe[\"Present_Price\"]==dataframe[\"Present_Price\"].max()].index, inplace=True)\n",
    "dataframe.info()"
   ]
  },
  {
   "cell_type": "markdown",
   "metadata": {},
   "source": [
    "# Describe quantitatives data  \n",
    "The dataset is about the 301 cars models between 2003 & 2018. 50% of them were created between 2003 & 2014, the other half between 2014 & 2018.  \n",
    "The selling price start at 0.1 and finish at 35, with the median of the prices at 3.6.  \n",
    "In opposition, the present price is always bigger, because it start at 0.3 and finish at 92 with the median of the prices at 6.4.  \n",
    "The kms driven go from 500 km to 500 000 km with half more than 32 000 km.  \n",
    "75% of the cars have 0 owner and it can go to 3 owners maximum.  \n",
    "***\n",
    "Thanks to Seaborn, we can create catplot charts. These charts are very usefull to fully understand the distribution of numericals data. For exemple with the Year chart, we can uderstande that the main years representated are between 2012 & 2016, there are some generally between 2006 & 2018, and before 2006 there are very few observations. \n",
    "We also see that present price have a big outlier, so we will drop it"
   ]
  },
  {
   "cell_type": "markdown",
   "metadata": {},
   "source": [
    "***\n",
    "### Now let's find out about our categoricals data"
   ]
  },
  {
   "cell_type": "code",
   "execution_count": 89,
   "metadata": {},
   "outputs": [
    {
     "name": "stderr",
     "output_type": "stream",
     "text": [
      "/home/yaya/anaconda3/envs/tf/lib/python3.11/site-packages/seaborn/_oldcore.py:1498: FutureWarning: is_categorical_dtype is deprecated and will be removed in a future version. Use isinstance(dtype, CategoricalDtype) instead\n",
      "  if pd.api.types.is_categorical_dtype(vector):\n",
      "/home/yaya/anaconda3/envs/tf/lib/python3.11/site-packages/seaborn/_oldcore.py:1498: FutureWarning: is_categorical_dtype is deprecated and will be removed in a future version. Use isinstance(dtype, CategoricalDtype) instead\n",
      "  if pd.api.types.is_categorical_dtype(vector):\n",
      "/home/yaya/anaconda3/envs/tf/lib/python3.11/site-packages/seaborn/_oldcore.py:1119: FutureWarning: use_inf_as_na option is deprecated and will be removed in a future version. Convert inf values to NaN before operating instead.\n",
      "  with pd.option_context('mode.use_inf_as_na', True):\n"
     ]
    },
    {
     "data": {
      "image/png": "[encoded data removed]",
      "text/plain": [
       "<Figure size 640x480 with 1 Axes>"
      ]
     },
     "metadata": {},
     "output_type": "display_data"
    }
   ],
   "source": [
    "ax = sns.histplot(data=dataframe, x=\"Car_Name\")"
   ]
  },
  {
   "cell_type": "markdown",
   "metadata": {},
   "source": [
    "We are not interested by the car name exactly, but more about the distribution by car_name (we could have encoded it & catplot, but it is a little bit too much effort for me).  \n",
    "It seems quite distributed, with some cars that appear more than 2"
   ]
  },
  {
   "cell_type": "code",
   "execution_count": 90,
   "metadata": {},
   "outputs": [
    {
     "name": "stdout",
     "output_type": "stream",
     "text": [
      " Car_Name : 97 values with \n",
      " Counter({'city': 26, 'corolla altis': 16, 'verna': 14, 'fortuner': 11, 'brio': 10, 'ciaz': 9, 'innova': 9, 'i20': 9, 'grand i10': 8, 'Royal Enfield Classic 350': 7, 'amaze': 7, 'jazz': 7, 'sx4': 6, 'ertiga': 6, 'eon': 6, 'swift': 5, 'alto k10': 5, 'i10': 5, 'ritz': 4, 'wagon r': 4, 'dzire': 4, 'etios liva': 4, 'Royal Enfield Thunder 350': 4, 'Bajaj Pulsar 150': 4, 'etios cross': 3, 'etios g': 3, 'Royal Enfield Thunder 500': 3, 'Bajaj Avenger 220': 3, 'Honda CB Hornet 160R': 3, 'Yamaha FZ S V 2.0': 3, 'TVS Apache RTR 160': 3, 'Bajaj Pulsar NS 200': 3, 'xcent': 3, 'creta': 3, 'KTM RC200': 2, 'Royal Enfield Classic 500': 2, 'Honda CBR 150': 2, 'Hero Extreme': 2, 'Bajaj Avenger 220 dtsi': 2, 'Yamaha FZ  v 2.0': 2, 'Bajaj Pulsar 220 F': 2, 'TVS Apache RTR 180': 2, 'Honda Activa 4G': 2, 'Hero Splender iSmart': 2, 'Activa 3g': 2, 'Hero Passion Pro': 2, 'Honda Karizma': 2, 'Honda CB Shine': 2, 'Honda CB twister': 2, 'Bajaj Discover 125': 2, 'elantra': 2, 'vitara brezza': 1, 's cross': 1, 'alto 800': 1, 'ignis': 1, '800': 1, 'baleno': 1, 'omni': 1, 'corolla': 1, 'etios gd': 1, 'camry': 1, 'UM Renegade Mojave': 1, 'Bajaj Dominar 400': 1, 'KTM RC390': 1, 'Hyosung GT250R': 1, 'KTM 390 Duke ': 1, 'Mahindra Mojo XT300': 1, 'Bajaj Pulsar RS200': 1, 'Royal Enfield Bullet 350': 1, 'Bajaj Avenger 150': 1, 'Yamaha FZ 16': 1, 'Bajaj Avenger 150 street': 1, 'Bajaj Pulsar  NS 200': 1, 'Hero Passion X pro': 1, 'Yamaha Fazer ': 1, 'TVS Sport ': 1, 'Honda Dream Yuga ': 1, 'Bajaj Avenger Street 220': 1, 'Honda CB Trigger': 1, 'Yamaha FZ S ': 1, 'Bajaj Pulsar 135 LS': 1, 'Activa 4g': 1, 'Honda CB Unicorn': 1, 'Hero Honda CBZ extreme': 1, 'Honda Activa 125': 1, 'TVS Jupyter': 1, 'Hero Honda Passion Pro': 1, 'Hero Splender Plus': 1, 'Bajaj Discover 100': 1, 'Suzuki Access 125': 1, 'TVS Wego': 1, 'Hero Glamour': 1, 'Hero Super Splendor': 1, 'Hero Hunk': 1, 'Hero  Ignitor Disc': 1, 'Hero  CBZ Xtreme': 1, 'Bajaj  ct 100': 1})\n",
      " Fuel_Type : 3 values with \n",
      " Counter({'Petrol': 239, 'Diesel': 59, 'CNG': 2})\n",
      " Seller_Type : 2 values with \n",
      " Counter({'Dealer': 194, 'Individual': 106})\n",
      " Transmission : 2 values with \n",
      " Counter({'Manual': 260, 'Automatic': 40})\n",
      " Owner : 3 values with \n",
      " Counter({0: 289, 1: 10, 3: 1})\n"
     ]
    }
   ],
   "source": [
    "informations_qualitatives_data(columns=categorical_columns, dataframe=dataframe)"
   ]
  },
  {
   "cell_type": "markdown",
   "metadata": {},
   "source": [
    "# Describe qualitatives data\n",
    "The dataset is about the 301 cars with :\n",
    "98 cars name with often between 1 to 6 cars by models (they are some exceptions).  \n",
    "3 Fuel type, with 4/5 of Petrol, 1/5 of Diesel & 2 cars of CNG?  \n",
    "2 seller type, with 2/3 Dealer and 1/3 Individual.  \n",
    "And finally 2 transmissions, with a bit more than 5/6 Manual and a little less than 1/5 Automatic.  "
   ]
  },
  {
   "cell_type": "markdown",
   "metadata": {},
   "source": [
    "***\n",
    "### And what about correlation (linear)"
   ]
  },
  {
   "cell_type": "code",
   "execution_count": 91,
   "metadata": {},
   "outputs": [],
   "source": [
    "dataframe_numerical = dataframe.drop(columns=categorical_columns)\n",
    "correlation_matrix = dataframe_numerical.corr()\n"
   ]
  },
  {
   "cell_type": "code",
   "execution_count": 92,
   "metadata": {},
   "outputs": [
    {
     "data": {
      "text/plain": [
       "Year            -0.522260\n",
       "Selling_Price    0.008660\n",
       "Present_Price    0.205733\n",
       "Kms_Driven       1.000000\n",
       "Name: Kms_Driven, dtype: float64"
      ]
     },
     "execution_count": 92,
     "metadata": {},
     "output_type": "execute_result"
    }
   ],
   "source": [
    "correlation_matrix[\"Kms_Driven\"].sort_values(ascending=True)"
   ]
  },
  {
   "cell_type": "code",
   "execution_count": 93,
   "metadata": {},
   "outputs": [
    {
     "data": {
      "text/plain": [
       "Kms_Driven       0.008660\n",
       "Year             0.279028\n",
       "Present_Price    0.884244\n",
       "Selling_Price    1.000000\n",
       "Name: Selling_Price, dtype: float64"
      ]
     },
     "execution_count": 93,
     "metadata": {},
     "output_type": "execute_result"
    }
   ],
   "source": [
    "correlation_matrix[\"Selling_Price\"].sort_values(ascending=True)"
   ]
  },
  {
   "cell_type": "code",
   "execution_count": 94,
   "metadata": {},
   "outputs": [
    {
     "data": {
      "text/plain": [
       "<Axes: >"
      ]
     },
     "execution_count": 94,
     "metadata": {},
     "output_type": "execute_result"
    },
    {
     "data": {
      "image/png": "[encoded data removed]",
      "text/plain": [
       "<Figure size 640x480 with 2 Axes>"
      ]
     },
     "metadata": {},
     "output_type": "display_data"
    }
   ],
   "source": [
    "sns.heatmap(data=correlation_matrix)\n",
    "# im, _ = ax.imshow(correlation_matrix, cmap=\"PuOr\", vmin=-1, vmax=1)"
   ]
  },
  {
   "cell_type": "markdown",
   "metadata": {},
   "source": [
    "# Observations of correlations\n",
    "As we can see with our matrix of correlation, the relation between Year and Selling Price is about a correlation of 0.2 (it seems acceptable but not impressive). Which means Year is a little correlated with Selling Price.  \n",
    "The heatmap is a chart that enables us to visually see the correlations between all variables with a symetric chart. As we can see, there is a really good correlation between Selling price and Present price, but also a pretty good negative correlation between year & kms driven. There is also a better correlation of the Kms driven with the present price than with the selling price.  \n",
    "**What for ?** : The heatmap could be use for many things. If there is a really good linear correlation with the predicted column we can go for a linear model (Linear Regression). If there are correlations between variables, we can drop one of them in a dimensionality reduction purpose."
   ]
  },
  {
   "cell_type": "markdown",
   "metadata": {},
   "source": [
    "***\n",
    "### Univariate regression with python libraries"
   ]
  },
  {
   "cell_type": "markdown",
   "metadata": {},
   "source": [
    "# Performance evaluation\n",
    "We have our predictions of the selling prices, but now we need to evaluate how good they are comparing to the reality.   \n",
    "For this tasks, we have a lot of tools :  \n",
    "**Metrics :** Metrics are great tools to evaluate the performance of a model. It will be the distance between the true values and the predicted values. Distance formula could depends of the context.\n",
    "- Mean squared error (MSE) : Euclidean distance between two points, it is a very interesting metrics and could be use as a loss function. However it will be a squared values (carefull to the units) and it will not be a very good metrics when there are outliers.  \n",
    "- Root mean squarred error (RMSE) : Root of the euclidean distance between two points. It is very interpretable because it will get the same unit as required output, but like mse it is not robust to outliers. It is often the preferred metric for an evaluation.  \n",
    "- Mean absolute error (MAE) :  Manatthan distance between two points. It is robust to outliers and also very interpretable. But as it is not differentiable it need to be optimizes.  \n",
    "Other metrics could be use but they are the 3 main metrics in regression problems.  \n",
    "\n",
    "**Charts :** Charts are also great tools to evaluate performance of a models\n",
    "***"
   ]
  },
  {
   "cell_type": "markdown",
   "metadata": {},
   "source": [
    "### Scikit-Learn\n"
   ]
  },
  {
   "cell_type": "code",
   "execution_count": 95,
   "metadata": {},
   "outputs": [],
   "source": [
    "univariate_dataset, selling_price = DataFrame(data=dataframe[\"Present_Price\"]), dataframe[\"Selling_Price\"]\n",
    "univariate_dataset_train, univariate_dataset_test, selling_price_train, selling_price_test = train_test_split(univariate_dataset, selling_price, test_size=0.3, random_state=41)"
   ]
  },
  {
   "cell_type": "code",
   "execution_count": 96,
   "metadata": {},
   "outputs": [],
   "source": [
    "linear_regressor_sklearn = LinearRegression()\n",
    "linear_regressor_sklearn.fit(X=univariate_dataset_train, y=selling_price_train)\n",
    "predicted_prices_sklearn = linear_regressor_sklearn.predict(X=univariate_dataset_test)"
   ]
  },
  {
   "cell_type": "code",
   "execution_count": 97,
   "metadata": {},
   "outputs": [
    {
     "name": "stdout",
     "output_type": "stream",
     "text": [
      "mse:  2.3822642383104013\n",
      "rmse:  1.5434585314514937\n",
      "mae:  1.0055568549134388\n",
      "Actual selling prices mean : 4.2732222222222225 and Predicted selling price mean : 4.353279999730801 with a difference of : -0.08005777750857845\n"
     ]
    }
   ],
   "source": [
    "print_scores(y_true=selling_price_test, y_pred=predicted_prices_sklearn)"
   ]
  },
  {
   "cell_type": "code",
   "execution_count": 98,
   "metadata": {},
   "outputs": [
    {
     "data": {
      "image/png": "[encoded data removed]",
      "text/plain": [
       "<Figure size 640x480 with 1 Axes>"
      ]
     },
     "metadata": {},
     "output_type": "display_data"
    }
   ],
   "source": [
    "visualize__regression(dataset_test=univariate_dataset_test, selling_price_test=selling_price_test, predicted_prices=predicted_prices_sklearn)"
   ]
  },
  {
   "cell_type": "markdown",
   "metadata": {},
   "source": [
    "### Scipit \n",
    "***"
   ]
  },
  {
   "cell_type": "code",
   "execution_count": 99,
   "metadata": {},
   "outputs": [
    {
     "data": {
      "text/plain": [
       "198     0.653240\n",
       "51     18.082243\n",
       "127     0.786684\n",
       "260     8.213157\n",
       "152     0.896921\n",
       "         ...    \n",
       "40      4.888650\n",
       "221     4.262041\n",
       "151     0.641636\n",
       "240     5.776346\n",
       "89      4.244636\n",
       "Name: Present_Price, Length: 90, dtype: float64"
      ]
     },
     "execution_count": 99,
     "metadata": {},
     "output_type": "execute_result"
    }
   ],
   "source": [
    "present_price_train, present_price_test = univariate_dataset_train[\"Present_Price\"], univariate_dataset_test[\"Present_Price\"]\n",
    "linear_regressor_scipit = stats.linregress(x=present_price_train, y=selling_price_train)\n",
    "predicted_prices_scipit = linear_regressor_scipit.intercept + linear_regressor_scipit.slope * present_price_test #type: ignore\n",
    "predicted_prices_scipit"
   ]
  },
  {
   "cell_type": "code",
   "execution_count": 100,
   "metadata": {},
   "outputs": [
    {
     "name": "stdout",
     "output_type": "stream",
     "text": [
      "mse:  2.3822642383104022\n",
      "rmse:  1.543458531451494\n",
      "mae:  1.0055568549134395\n",
      "Actual selling prices mean : 4.2732222222222225 and Predicted selling price mean : 4.353279999730802 with a difference of : -0.08005777750857934\n"
     ]
    }
   ],
   "source": [
    "print_scores(y_true=selling_price_test, y_pred=predicted_prices_scipit)"
   ]
  },
  {
   "cell_type": "code",
   "execution_count": 101,
   "metadata": {},
   "outputs": [
    {
     "data": {
      "image/png": "[encoded data removed]",
      "text/plain": [
       "<Figure size 640x480 with 1 Axes>"
      ]
     },
     "metadata": {},
     "output_type": "display_data"
    }
   ],
   "source": [
    "visualize__regression(dataset_test=univariate_dataset_test, selling_price_test=selling_price_test, predicted_prices=predicted_prices_scipit)"
   ]
  },
  {
   "cell_type": "markdown",
   "metadata": {},
   "source": [
    "***\n",
    "### Polyvariate regression with sklearn"
   ]
  },
  {
   "cell_type": "markdown",
   "metadata": {},
   "source": [
    "First of all we need to create a polyvariate dataset with the 3 features we want : Kms_driven, Transmission and we keep the Present_price.  \n",
    "After we will as usual train_test split our polyvariate dataset with the Selling_Price.  \n",
    "Transmission is a categorical feature, we need to encode it (with OneHotEncoder for exemple).  \n",
    "Then with the new transformed polyvariate dataset, we can fit a linear regressor on it."
   ]
  },
  {
   "cell_type": "code",
   "execution_count": 102,
   "metadata": {},
   "outputs": [
    {
     "name": "stderr",
     "output_type": "stream",
     "text": [
      "/home/yaya/anaconda3/envs/tf/lib/python3.11/site-packages/seaborn/_oldcore.py:1498: FutureWarning: is_categorical_dtype is deprecated and will be removed in a future version. Use isinstance(dtype, CategoricalDtype) instead\n",
      "  if pd.api.types.is_categorical_dtype(vector):\n",
      "/home/yaya/anaconda3/envs/tf/lib/python3.11/site-packages/seaborn/_oldcore.py:1498: FutureWarning: is_categorical_dtype is deprecated and will be removed in a future version. Use isinstance(dtype, CategoricalDtype) instead\n",
      "  if pd.api.types.is_categorical_dtype(vector):\n",
      "/home/yaya/anaconda3/envs/tf/lib/python3.11/site-packages/seaborn/_oldcore.py:1498: FutureWarning: is_categorical_dtype is deprecated and will be removed in a future version. Use isinstance(dtype, CategoricalDtype) instead\n",
      "  if pd.api.types.is_categorical_dtype(vector):\n"
     ]
    },
    {
     "data": {
      "image/png": "[encoded data removed]",
      "text/plain": [
       "<Figure size 640x480 with 1 Axes>"
      ]
     },
     "metadata": {},
     "output_type": "display_data"
    }
   ],
   "source": [
    "sns.boxplot(data=dataframe, x=\"Selling_Price\", y=\"Transmission\", width=.5)\n",
    "plt.show()"
   ]
  },
  {
   "cell_type": "code",
   "execution_count": 103,
   "metadata": {},
   "outputs": [],
   "source": [
    "chosen_features = ['Kms_Driven','Transmission']\n",
    "polyvariate_dataset, selling_price = dataframe.drop(columns=[column for column in dataframe.columns if column not in chosen_features]), dataframe[\"Selling_Price\"]\n",
    "polyvariate_dataset_train, polyvariate_dataset_test, selling_price_train, selling_price_test = train_test_split(polyvariate_dataset, selling_price, test_size=0.3, random_state=41)"
   ]
  },
  {
   "cell_type": "code",
   "execution_count": 107,
   "metadata": {},
   "outputs": [],
   "source": [
    "polyvariate_columns_transformers = ColumnTransformer([\n",
    "    ('encode', OneHotEncoder(categories=[['Manual', 'Automatic']]), ['Transmission']),\n",
    "    ('scaler', StandardScaler(), ['Year'])\n",
    "])\n",
    "polyvariate_dataset_train_transformed = polyvariate_columns_transformers.fit_transform(polyvariate_dataset_train)\n",
    "linear_regressor_polyvariate = LinearRegression()\n",
    "linear_regressor_polyvariate.fit(X=polyvariate_dataset_train_transformed,  y=selling_price_train)\n",
    "\n",
    "polyvariate_dataset_test_transformed = polyvariate_columns_transformers.fit_transform(polyvariate_dataset_test)\n",
    "predicted_prices_polyvariate = linear_regressor_polyvariate.predict(X=polyvariate_dataset_test_transformed)"
   ]
  },
  {
   "cell_type": "code",
   "execution_count": 108,
   "metadata": {},
   "outputs": [
    {
     "name": "stdout",
     "output_type": "stream",
     "text": [
      "mse:  14.52266911458333\n",
      "rmse:  3.8108619910176924\n",
      "mae:  2.814375\n",
      "Actual selling prices mean : 4.2732222222222225 and Predicted selling price mean : 4.699652777777778 with a difference of : -0.4264305555555552\n"
     ]
    }
   ],
   "source": [
    "print_scores(y_true=selling_price_test, y_pred=predicted_prices_polyvariate)"
   ]
  },
  {
   "cell_type": "markdown",
   "metadata": {},
   "source": [
    "### Analysis\n",
    "We can see that in fact the best regression is univariate with Present_Price. However it will be to easy... So the best parameters will be a polyvariate with : Year & Transmission*  \n",
    "Because of the lack of data, our model *overfit* our Dataframe. It is difficult to train it & some features (Seller_Type, Year, Fuel_Type & Transmission) are barely as good as each other.  \n",
    "By analysis, some feature are really useless (bad correlation so not in a linear regression, or bad variance).  \n",
    "***  \n",
    "*See analysis of features in our model in 'feature_selection.ipynb' notebook. In Martin's question, we will only yse Transmission & Year.\n",
    "***"
   ]
  },
  {
   "cell_type": "markdown",
   "metadata": {},
   "source": [
    "# And what about Martin ?  \n",
    "For the context, Martin want to buy a manual car with less than 7 years and less than 100 000 Kms. How much it will cost him ? (we only use Year & Transmission in our Model)"
   ]
  },
  {
   "cell_type": "code",
   "execution_count": 106,
   "metadata": {},
   "outputs": [
    {
     "name": "stdout",
     "output_type": "stream",
     "text": [
      "[3.90625]\n"
     ]
    }
   ],
   "source": [
    "martin_car = DataFrame({'Year':2017, 'Kms_Driven' : 99999, 'Transmission':'Manual'}, index=(1,))\n",
    "martin_car_transformed = polyvariate_columns_transformers.fit_transform(martin_car)\n",
    "print(linear_regressor_polyvariate.predict(martin_car_transformed))"
   ]
  },
  {
   "cell_type": "markdown",
   "metadata": {},
   "source": [
    "# Result  \n",
    "For the minimal context (so Manual, 2017 and 99 999 km), it will cost him arround **3.9**.  \n",
    "Because of the RMSE arround 4 of the model, the average difference with the real price will be arround 4."
   ]
  }
 ],
 "metadata": {
  "kernelspec": {
   "display_name": "tf",
   "language": "python",
   "name": "python3"
  },
  "language_info": {
   "codemirror_mode": {
    "name": "ipython",
    "version": 3
   },
   "file_extension": ".py",
   "mimetype": "text/x-python",
   "name": "python",
   "nbconvert_exporter": "python",
   "pygments_lexer": "ipython3",
   "version": "3.11.5"
  }
 },
 "nbformat": 4,
 "nbformat_minor": 2
}
