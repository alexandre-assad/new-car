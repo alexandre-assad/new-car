{
 "cells": [
  {
   "cell_type": "code",
   "execution_count": 136,
   "metadata": {},
   "outputs": [],
   "source": [
    "from os import path\n",
    "from typing import List\n",
    "\n",
    "from numpy import sqrt\n",
    "from pandas import read_csv, DataFrame, factorize\n",
    "from sklearn.base import BaseEstimator, TransformerMixin\n",
    "from sklearn.linear_model import LinearRegression\n",
    "from sklearn.metrics import mean_absolute_error, mean_squared_error\n",
    "from sklearn.model_selection import train_test_split\n",
    "from sklearn.preprocessing import OneHotEncoder\n",
    "from sklearn.feature_selection import  SelectKBest, r_regression, chi2"
   ]
  },
  {
   "cell_type": "code",
   "execution_count": 137,
   "metadata": {},
   "outputs": [],
   "source": [
    "def print_scores(y_true, y_pred) -> None:\n",
    "    mse = mean_squared_error(y_true=y_true, y_pred=y_pred)\n",
    "    print(\"mse: \",mse)\n",
    "    rmse = sqrt(mse)\n",
    "    print(\"rmse: \",rmse)\n",
    "    mae = mean_absolute_error(y_true=y_true, y_pred=y_pred)\n",
    "    print(\"mae: \",mae)\n",
    "    print(f\"Actual selling prices mean : {y_true.mean()} and Predicted selling price mean : {y_pred.mean()} with a difference of : {y_true.mean() - y_pred.mean()}\")"
   ]
  },
  {
   "cell_type": "code",
   "execution_count": 138,
   "metadata": {},
   "outputs": [
    {
     "name": "stdout",
     "output_type": "stream",
     "text": [
      "<class 'pandas.core.frame.DataFrame'>\n",
      "RangeIndex: 301 entries, 0 to 300\n",
      "Data columns (total 9 columns):\n",
      " #   Column         Non-Null Count  Dtype  \n",
      "---  ------         --------------  -----  \n",
      " 0   Car_Name       301 non-null    object \n",
      " 1   Year           301 non-null    int64  \n",
      " 2   Selling_Price  301 non-null    float64\n",
      " 3   Present_Price  301 non-null    float64\n",
      " 4   Kms_Driven     301 non-null    int64  \n",
      " 5   Fuel_Type      301 non-null    object \n",
      " 6   Seller_Type    301 non-null    object \n",
      " 7   Transmission   301 non-null    object \n",
      " 8   Owner          301 non-null    int64  \n",
      "dtypes: float64(2), int64(3), object(4)\n",
      "memory usage: 21.3+ KB\n"
     ]
    }
   ],
   "source": [
    "dataframe = read_csv(path.join(\"..\", 'data/raw','carData.csv'))\n",
    "dataframe.info()"
   ]
  },
  {
   "cell_type": "markdown",
   "metadata": {},
   "source": [
    "# First tests\n",
    "I wanted to try some feature selector, however i need to practice more with these tools i barely undersant.  \n",
    "Here is some following tries to create a custom Encoder (to avoid difference of categories length in a train/test/split situation) then a pipeline when I use a selectfrom model"
   ]
  },
  {
   "cell_type": "code",
   "execution_count": 139,
   "metadata": {},
   "outputs": [],
   "source": [
    "dataframe.drop(columns=['Present_Price'], inplace=True)"
   ]
  },
  {
   "cell_type": "code",
   "execution_count": 140,
   "metadata": {},
   "outputs": [],
   "source": [
    "univariate_dataset, selling_price = dataframe.drop(columns=[\"Selling_Price\"]), dataframe[\"Selling_Price\"]\n",
    "univariate_dataset_train, univariate_dataset_test, selling_price_train, selling_price_test = train_test_split(univariate_dataset, selling_price, test_size=0.3, random_state=41)"
   ]
  },
  {
   "cell_type": "code",
   "execution_count": 141,
   "metadata": {},
   "outputs": [],
   "source": [
    "class CustomOneHotEncoder(BaseEstimator, TransformerMixin):\n",
    "    \n",
    "    def fit(self, dataframe, target_serie = None):\n",
    "        return self\n",
    "    \n",
    "    def transform(self, dataframe, target_serie = None):\n",
    "        length_categories = 0\n",
    "        for column in dataframe.columns:\n",
    "            length_categories += len(factorize(dataframe[column])[0])\n",
    "        encoder = OneHotEncoder(min_frequency=length_categories)\n",
    "        dataframe = encoder.fit_transform(dataframe)\n",
    "        return dataframe"
   ]
  },
  {
   "cell_type": "code",
   "execution_count": 146,
   "metadata": {},
   "outputs": [
    {
     "name": "stdout",
     "output_type": "stream",
     "text": [
      "mse:  31.81975408675402\n",
      "rmse:  5.640900113169353\n",
      "mae:  3.2685486714386247\n",
      "Actual selling prices mean : 4.686373626373626 and Predicted selling price mean : 4.650428571428501 with a difference of : 0.035945054945125676\n"
     ]
    }
   ],
   "source": [
    "from sklearn.compose import ColumnTransformer\n",
    "from sklearn.feature_selection import SelectFromModel\n",
    "from sklearn.pipeline import Pipeline\n",
    "from sklearn.preprocessing import StandardScaler\n",
    "\n",
    "\n",
    "\n",
    "column_transformer = ColumnTransformer(transformers=[\n",
    "    ('Label', CustomOneHotEncoder(), [column for column in univariate_dataset.columns if univariate_dataset[column].dtype == 'object' or column == 'Owner']),\n",
    "    ('Scaler', StandardScaler(), [column for column in univariate_dataset.columns if univariate_dataset[column].dtype in ('int64', 'float64') and column != 'Owner'])\n",
    "    ])\n",
    "\n",
    "best_univariate_pipeline = Pipeline([\n",
    "    ('best_feature',  SelectFromModel(LinearRegression())),\n",
    "    ('linear_regression', LinearRegression())\n",
    "])\n",
    "\n",
    "univariate_dataset_train_transformed = column_transformer.fit_transform(univariate_dataset_train)\n",
    "best_univariate_pipeline.fit(univariate_dataset_train_transformed, selling_price_train)\n",
    "univariate_dataset_test_transformed = column_transformer.fit_transform(univariate_dataset_test)\n",
    "predicted_prices_univariate = best_univariate_pipeline.predict(X=univariate_dataset_test_transformed)\n",
    "\n",
    "print_scores(selling_price_test, predicted_prices_univariate)"
   ]
  },
  {
   "cell_type": "markdown",
   "metadata": {},
   "source": [
    "# Second try\n",
    "Let's analyze correlations and variance. Thanks to the heat map (for exmeple in correlation.ipynb or the exploratory-anylysis), we can decide to test only the following features : Seller_Type, Fuel_Type, Transmission & Year.  \n",
    "Year is the only numerical one so we always need to encode the categoricals one.\n",
    "***"
   ]
  },
  {
   "cell_type": "markdown",
   "metadata": {},
   "source": [
    "## Year & Transmission"
   ]
  },
  {
   "cell_type": "code",
   "execution_count": 165,
   "metadata": {},
   "outputs": [
    {
     "name": "stdout",
     "output_type": "stream",
     "text": [
      "mse:  14.347383887372835\n",
      "rmse:  3.7877940661251417\n",
      "mae:  2.9419428493671425\n",
      "Actual selling prices mean : 4.312637362637362 and Predicted selling price mean : 4.730100083095773 with a difference of : -0.4174627204584107\n"
     ]
    }
   ],
   "source": [
    "chosen_features = ['Year','Transmission']\n",
    "polyvariate_dataset, selling_price = dataframe.drop(columns=[column for column in dataframe.columns if column not in chosen_features]), dataframe[\"Selling_Price\"]\n",
    "polyvariate_dataset_train, polyvariate_dataset_test, selling_price_train, selling_price_test = train_test_split(polyvariate_dataset, selling_price, test_size=0.3)\n",
    "\n",
    "polyvariate_columns_transformers = ColumnTransformer([\n",
    "    ('encode', OneHotEncoder(categories=[['Manual', 'Automatic']]), ['Transmission']),\n",
    "    ('scaler', StandardScaler(), ['Year'])\n",
    "])\n",
    "polyvariate_dataset_train_transformed = polyvariate_columns_transformers.fit_transform(polyvariate_dataset_train)\n",
    "linear_regressor_polyvariate = LinearRegression()\n",
    "linear_regressor_polyvariate.fit(X=polyvariate_dataset_train_transformed,  y=selling_price_train)\n",
    "\n",
    "polyvariate_dataset_test_transformed = polyvariate_columns_transformers.fit_transform(polyvariate_dataset_test)\n",
    "predicted_prices_polyvariate = linear_regressor_polyvariate.predict(X=polyvariate_dataset_test_transformed)\n",
    "print_scores(y_true=selling_price_test, y_pred=predicted_prices_polyvariate)"
   ]
  },
  {
   "cell_type": "markdown",
   "metadata": {},
   "source": [
    "## Year & Fuel Type"
   ]
  },
  {
   "cell_type": "code",
   "execution_count": 166,
   "metadata": {},
   "outputs": [
    {
     "name": "stdout",
     "output_type": "stream",
     "text": [
      "mse:  20.374852184117312\n",
      "rmse:  4.513851147758122\n",
      "mae:  3.289551604366828\n",
      "Actual selling prices mean : 5.068571428571428 and Predicted selling price mean : 4.8228928609226385 with a difference of : 0.24567856764878915\n"
     ]
    }
   ],
   "source": [
    "chosen_features = ['Year','Fuel_Type']\n",
    "polyvariate_dataset, selling_price = dataframe.drop(columns=[column for column in dataframe.columns if column not in chosen_features]), dataframe[\"Selling_Price\"]\n",
    "polyvariate_dataset_train, polyvariate_dataset_test, selling_price_train, selling_price_test = train_test_split(polyvariate_dataset, selling_price, test_size=0.3)\n",
    "\n",
    "polyvariate_columns_transformers = ColumnTransformer([\n",
    "    ('encode', OneHotEncoder(categories=[['Petrol', 'Diesel', 'CNG']]), ['Fuel_Type']),\n",
    "    ('scaler', StandardScaler(), ['Year'])\n",
    "])\n",
    "polyvariate_dataset_train_transformed = polyvariate_columns_transformers.fit_transform(polyvariate_dataset_train)\n",
    "linear_regressor_polyvariate = LinearRegression()\n",
    "linear_regressor_polyvariate.fit(X=polyvariate_dataset_train_transformed,  y=selling_price_train)\n",
    "\n",
    "polyvariate_dataset_test_transformed = polyvariate_columns_transformers.fit_transform(polyvariate_dataset_test)\n",
    "predicted_prices_polyvariate = linear_regressor_polyvariate.predict(X=polyvariate_dataset_test_transformed)\n",
    "print_scores(y_true=selling_price_test, y_pred=predicted_prices_polyvariate)"
   ]
  },
  {
   "cell_type": "markdown",
   "metadata": {},
   "source": [
    "## Year & Seller Type"
   ]
  },
  {
   "cell_type": "code",
   "execution_count": 167,
   "metadata": {},
   "outputs": [
    {
     "name": "stdout",
     "output_type": "stream",
     "text": [
      "mse:  29.939408417964177\n",
      "rmse:  5.471691549965529\n",
      "mae:  2.6603614461885203\n",
      "Actual selling prices mean : 5.372637362637362 and Predicted selling price mean : 4.777153159214688 with a difference of : 0.5954842034226742\n"
     ]
    }
   ],
   "source": [
    "chosen_features = ['Year','Seller_Type']\n",
    "polyvariate_dataset, selling_price = dataframe.drop(columns=[column for column in dataframe.columns if column not in chosen_features]), dataframe[\"Selling_Price\"]\n",
    "polyvariate_dataset_train, polyvariate_dataset_test, selling_price_train, selling_price_test = train_test_split(polyvariate_dataset, selling_price, test_size=0.3)\n",
    "\n",
    "polyvariate_columns_transformers = ColumnTransformer([\n",
    "    ('encode', OneHotEncoder(categories=[['Dealer', 'Individual']]), ['Seller_Type']),\n",
    "    ('scaler', StandardScaler(), ['Year'])\n",
    "])\n",
    "polyvariate_dataset_train_transformed = polyvariate_columns_transformers.fit_transform(polyvariate_dataset_train)\n",
    "linear_regressor_polyvariate = LinearRegression()\n",
    "linear_regressor_polyvariate.fit(X=polyvariate_dataset_train_transformed,  y=selling_price_train)\n",
    "\n",
    "polyvariate_dataset_test_transformed = polyvariate_columns_transformers.fit_transform(polyvariate_dataset_test)\n",
    "predicted_prices_polyvariate = linear_regressor_polyvariate.predict(X=polyvariate_dataset_test_transformed)\n",
    "print_scores(y_true=selling_price_test, y_pred=predicted_prices_polyvariate)"
   ]
  },
  {
   "cell_type": "markdown",
   "metadata": {},
   "source": [
    "## 3 together"
   ]
  },
  {
   "cell_type": "code",
   "execution_count": 180,
   "metadata": {},
   "outputs": [
    {
     "name": "stdout",
     "output_type": "stream",
     "text": [
      "mse:  11.640752592719782\n",
      "rmse:  3.4118547144800555\n",
      "mae:  2.11657967032967\n",
      "Actual selling prices mean : 4.880109890109891 and Predicted selling price mean : 5.1514423076923075 with a difference of : -0.2713324175824168\n"
     ]
    }
   ],
   "source": [
    "chosen_features = ['Fuel_Type','Seller_Type', 'Transmission']\n",
    "polyvariate_dataset, selling_price = dataframe.drop(columns=[column for column in dataframe.columns if column not in chosen_features]), dataframe[\"Selling_Price\"]\n",
    "polyvariate_dataset_train, polyvariate_dataset_test, selling_price_train, selling_price_test = train_test_split(polyvariate_dataset, selling_price, test_size=0.3)\n",
    "\n",
    "polyvariate_columns_transformers = ColumnTransformer([\n",
    "    ('encode_seller', OneHotEncoder(categories=[['Dealer', 'Individual']]), ['Seller_Type']),\n",
    "    ('encode_fuel', OneHotEncoder(categories=[['Petrol', 'Diesel', 'CNG']]), ['Fuel_Type']),\n",
    "    ('encode', OneHotEncoder(categories=[['Manual', 'Automatic']]), ['Transmission'])\n",
    "])\n",
    "polyvariate_dataset_train_transformed = polyvariate_columns_transformers.fit_transform(polyvariate_dataset_train)\n",
    "linear_regressor_polyvariate = LinearRegression()\n",
    "linear_regressor_polyvariate.fit(X=polyvariate_dataset_train_transformed,  y=selling_price_train)\n",
    "\n",
    "polyvariate_dataset_test_transformed = polyvariate_columns_transformers.fit_transform(polyvariate_dataset_test)\n",
    "predicted_prices_polyvariate = linear_regressor_polyvariate.predict(X=polyvariate_dataset_test_transformed)\n",
    "print_scores(y_true=selling_price_test, y_pred=predicted_prices_polyvariate)"
   ]
  },
  {
   "cell_type": "markdown",
   "metadata": {},
   "source": [
    "When removing the random state of the train test split, we can see that the lack of data could create *overfitting*. We can assume that all these features could give the same scores in this project"
   ]
  }
 ],
 "metadata": {
  "kernelspec": {
   "display_name": "tf",
   "language": "python",
   "name": "python3"
  },
  "language_info": {
   "codemirror_mode": {
    "name": "ipython",
    "version": 3
   },
   "file_extension": ".py",
   "mimetype": "text/x-python",
   "name": "python",
   "nbconvert_exporter": "python",
   "pygments_lexer": "ipython3",
   "version": "3.11.5"
  }
 },
 "nbformat": 4,
 "nbformat_minor": 2
}
